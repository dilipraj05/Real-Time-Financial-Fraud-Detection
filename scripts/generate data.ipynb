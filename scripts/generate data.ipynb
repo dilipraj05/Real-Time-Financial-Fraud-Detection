{
 "cells": [
  {
   "cell_type": "code",
   "execution_count": 6,
   "id": "5d98cc53-7f81-4e21-8030-0b2aa92744ba",
   "metadata": {},
   "outputs": [],
   "source": [
    "import os\n",
    "import pandas as pd\n",
    "import numpy as np\n",
    "from datetime import datetime, timedelta"
   ]
  },
  {
   "cell_type": "code",
   "execution_count": 8,
   "id": "41ad1fde-fe64-440f-950f-7812597de090",
   "metadata": {},
   "outputs": [],
   "source": [
    "os.makedirs(\"data\", exist_ok=True)"
   ]
  },
  {
   "cell_type": "code",
   "execution_count": 10,
   "id": "9c368a7f-315f-4dd7-b6d8-5779f56f99a3",
   "metadata": {},
   "outputs": [
    {
     "name": "stdout",
     "output_type": "stream",
     "text": [
      "✅ transactions.csv generated.\n"
     ]
    }
   ],
   "source": [
    "def create_transaction_data(n=5000):\n",
    "    np.random.seed(42)\n",
    "    data = {\n",
    "        'transaction_id': np.arange(1, n + 1),\n",
    "        'timestamp': [datetime.now() - timedelta(minutes=i) for i in range(n)],\n",
    "        'user_id': np.random.randint(1000, 1100, n),\n",
    "        'amount': np.round(np.random.exponential(scale=200, size=n), 2),\n",
    "        'location': np.random.choice(['Chennai', 'Mumbai', 'Delhi', 'Bangalore'], n),\n",
    "        'device_type': np.random.choice(['Mobile', 'Desktop', 'Tablet'], n),\n",
    "        'is_fraud': np.random.choice([0, 1], n, p=[0.96, 0.04])\n",
    "    }\n",
    "    df = pd.DataFrame(data)\n",
    "    df.to_csv(\"data/transactions.csv\", index=False)\n",
    "    print(\"✅ transactions.csv generated.\")\n",
    "\n",
    "create_transaction_data()"
   ]
  },
  {
   "cell_type": "code",
   "execution_count": 14,
   "id": "70255f9a-3397-427d-9fef-b1b0709e728f",
   "metadata": {},
   "outputs": [],
   "source": [
    "import os\n",
    "import pandas as pd\n",
    "from sklearn.ensemble import IsolationForest\n",
    "from sklearn.preprocessing import StandardScaler\n",
    "from sklearn.metrics import confusion_matrix, classification_report"
   ]
  },
  {
   "cell_type": "code",
   "execution_count": 16,
   "id": "0acad5ac-0458-4158-8764-7137b22eab86",
   "metadata": {},
   "outputs": [],
   "source": [
    "df = pd.read_csv(\"data/transactions.csv\")"
   ]
  },
  {
   "cell_type": "code",
   "execution_count": 18,
   "id": "71c588df-2caa-4e79-8457-fb37fbf0f31a",
   "metadata": {},
   "outputs": [],
   "source": [
    "os.makedirs(\"data\", exist_ok=True)"
   ]
  },
  {
   "cell_type": "code",
   "execution_count": 21,
   "id": "0febb032-7a67-496d-98cb-5dcbe213140b",
   "metadata": {},
   "outputs": [],
   "source": [
    "features = ['amount']\n",
    "X = df[features]"
   ]
  },
  {
   "cell_type": "code",
   "execution_count": 23,
   "id": "d2c38323-265f-4149-952b-77319cecb7c0",
   "metadata": {},
   "outputs": [],
   "source": [
    "# Step 1: Normalize the amount column\n",
    "scaler = StandardScaler()\n",
    "X_scaled = scaler.fit_transform(X)"
   ]
  },
  {
   "cell_type": "code",
   "execution_count": 25,
   "id": "6981efa3-cb35-4444-a8ea-c7936aceef6c",
   "metadata": {},
   "outputs": [],
   "source": [
    "# Step 2: Apply Isolation Forest\n",
    "model = IsolationForest(n_estimators=100, contamination=0.04, random_state=42)\n",
    "df['anomaly_score'] = model.fit_predict(X_scaled)"
   ]
  },
  {
   "cell_type": "code",
   "execution_count": 27,
   "id": "d16a68e5-5fb4-4fb0-b988-e4506fc00515",
   "metadata": {},
   "outputs": [],
   "source": [
    "# Step 3: Convert scores to binary predictions\n",
    "df['fraud_pred'] = df['anomaly_score'].apply(lambda x: 1 if x == -1 else 0)"
   ]
  },
  {
   "cell_type": "code",
   "execution_count": 29,
   "id": "0319550f-45e5-47b4-b74c-1bc7c94714c1",
   "metadata": {},
   "outputs": [
    {
     "name": "stdout",
     "output_type": "stream",
     "text": [
      "✅ fraud_scored.csv saved.\n"
     ]
    }
   ],
   "source": [
    "# Step 4: Save results\n",
    "df.to_csv(\"data/fraud_scored.csv\", index=False)\n",
    "print(\"✅ fraud_scored.csv saved.\")"
   ]
  },
  {
   "cell_type": "code",
   "execution_count": 31,
   "id": "d694df9e-a093-4c5b-825f-ba8356177129",
   "metadata": {},
   "outputs": [],
   "source": [
    "# Step 5: Evaluation\n",
    "y_true = df['is_fraud']\n",
    "y_pred = df['fraud_pred']"
   ]
  },
  {
   "cell_type": "code",
   "execution_count": 33,
   "id": "05ddfbcd-6c33-42c8-86e7-9496b6e39320",
   "metadata": {},
   "outputs": [
    {
     "name": "stdout",
     "output_type": "stream",
     "text": [
      "\n",
      "📊 Confusion Matrix:\n",
      "[[4624  186]\n",
      " [ 177   13]]\n",
      "\n",
      "📈 Classification Report:\n",
      "              precision    recall  f1-score   support\n",
      "\n",
      "           0      0.963     0.961     0.962      4810\n",
      "           1      0.065     0.068     0.067       190\n",
      "\n",
      "    accuracy                          0.927      5000\n",
      "   macro avg      0.514     0.515     0.515      5000\n",
      "weighted avg      0.929     0.927     0.928      5000\n",
      "\n"
     ]
    }
   ],
   "source": [
    "# Show confusion matrix\n",
    "cm = confusion_matrix(y_true, y_pred)\n",
    "print(\"\\n📊 Confusion Matrix:\")\n",
    "print(cm)\n",
    "\n",
    "# Classification Report (Precision, Recall, F1)\n",
    "print(\"\\n📈 Classification Report:\")\n",
    "print(classification_report(y_true, y_pred, digits=3))"
   ]
  },
  {
   "cell_type": "code",
   "execution_count": null,
   "id": "14da5903-30ce-4ade-a55b-a8fa702ec942",
   "metadata": {},
   "outputs": [],
   "source": []
  }
 ],
 "metadata": {
  "kernelspec": {
   "display_name": "Python [conda env:base] *",
   "language": "python",
   "name": "conda-base-py"
  },
  "language_info": {
   "codemirror_mode": {
    "name": "ipython",
    "version": 3
   },
   "file_extension": ".py",
   "mimetype": "text/x-python",
   "name": "python",
   "nbconvert_exporter": "python",
   "pygments_lexer": "ipython3",
   "version": "3.12.7"
  }
 },
 "nbformat": 4,
 "nbformat_minor": 5
}
