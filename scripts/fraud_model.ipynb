{
 "cells": [
  {
   "cell_type": "code",
   "execution_count": 1,
   "id": "e0762ccf-6ae7-46dd-9a34-87fdf01e12b5",
   "metadata": {},
   "outputs": [],
   "source": [
    "import os\n",
    "import pandas as pd\n",
    "from sklearn.ensemble import IsolationForest\n",
    "from sklearn.preprocessing import StandardScaler\n",
    "from sklearn.metrics import confusion_matrix, classification_report"
   ]
  },
  {
   "cell_type": "code",
   "execution_count": 3,
   "id": "e0cc9246-4230-4e94-aaf1-6322cfb7e138",
   "metadata": {},
   "outputs": [],
   "source": [
    "df = pd.read_csv(\"data/transactions.csv\")"
   ]
  },
  {
   "cell_type": "code",
   "execution_count": 5,
   "id": "d7b97827-c6f6-4e13-ba0e-68265e437420",
   "metadata": {},
   "outputs": [],
   "source": [
    "features = ['amount']\n",
    "X = df[features]"
   ]
  },
  {
   "cell_type": "code",
   "execution_count": 7,
   "id": "eddacae0-5226-4c07-8aeb-37cdf66947ca",
   "metadata": {},
   "outputs": [
    {
     "name": "stdout",
     "output_type": "stream",
     "text": [
      "✅ fraud_scored.csv saved.\n"
     ]
    }
   ],
   "source": [
    "# Normalize the amount feature\n",
    "scaler = StandardScaler()\n",
    "X_scaled = scaler.fit_transform(X)\n",
    "\n",
    "# Train Isolation Forest model\n",
    "model = IsolationForest(n_estimators=100, contamination=0.04, random_state=42)\n",
    "df['anomaly_score'] = model.fit_predict(X_scaled)\n",
    "\n",
    "# Convert anomaly score to binary fraud prediction\n",
    "df['fraud_pred'] = df['anomaly_score'].apply(lambda x: 1 if x == -1 else 0)\n",
    "\n",
    "# Save output to CSV\n",
    "os.makedirs(\"data\", exist_ok=True)\n",
    "df.to_csv(\"data/fraud_scored.csv\", index=False)\n",
    "print(\"✅ fraud_scored.csv saved.\")\n"
   ]
  },
  {
   "cell_type": "code",
   "execution_count": 9,
   "id": "eaa35c54-ce01-4cec-88b9-7fae6375cc28",
   "metadata": {},
   "outputs": [
    {
     "name": "stdout",
     "output_type": "stream",
     "text": [
      "\n",
      "📊 Confusion Matrix:\n",
      "[[4624  186]\n",
      " [ 177   13]]\n",
      "\n",
      "📈 Classification Report:\n",
      "              precision    recall  f1-score   support\n",
      "\n",
      "           0      0.963     0.961     0.962      4810\n",
      "           1      0.065     0.068     0.067       190\n",
      "\n",
      "    accuracy                          0.927      5000\n",
      "   macro avg      0.514     0.515     0.515      5000\n",
      "weighted avg      0.929     0.927     0.928      5000\n",
      "\n"
     ]
    }
   ],
   "source": [
    "# Evaluate predictions\n",
    "y_true = df['is_fraud']\n",
    "y_pred = df['fraud_pred']\n",
    "\n",
    "# Confusion Matrix\n",
    "print(\"\\n📊 Confusion Matrix:\")\n",
    "print(confusion_matrix(y_true, y_pred))\n",
    "\n",
    "# Classification Report\n",
    "print(\"\\n📈 Classification Report:\")\n",
    "print(classification_report(y_true, y_pred, digits=3))"
   ]
  },
  {
   "cell_type": "code",
   "execution_count": null,
   "id": "c25fcb37-c548-40c5-b0a4-8847ad8dc783",
   "metadata": {},
   "outputs": [],
   "source": []
  }
 ],
 "metadata": {
  "kernelspec": {
   "display_name": "Python [conda env:base] *",
   "language": "python",
   "name": "conda-base-py"
  },
  "language_info": {
   "codemirror_mode": {
    "name": "ipython",
    "version": 3
   },
   "file_extension": ".py",
   "mimetype": "text/x-python",
   "name": "python",
   "nbconvert_exporter": "python",
   "pygments_lexer": "ipython3",
   "version": "3.12.7"
  }
 },
 "nbformat": 4,
 "nbformat_minor": 5
}
